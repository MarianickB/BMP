{
  "nbformat": 4,
  "nbformat_minor": 0,
  "metadata": {
    "colab": {
      "name": "CNN Marianick.ipynb",
      "provenance": [],
      "collapsed_sections": [],
      "authorship_tag": "ABX9TyPWbvqIPXI0tg4GVKe1nzuk",
      "include_colab_link": true
    },
    "kernelspec": {
      "name": "python3",
      "display_name": "Python 3"
    },
    "language_info": {
      "name": "python"
    }
  },
  "cells": [
    {
      "cell_type": "markdown",
      "metadata": {
        "id": "view-in-github",
        "colab_type": "text"
      },
      "source": [
        "<a href=\"https://colab.research.google.com/github/MarianickB/BMP/blob/master/CNN_Marianick.ipynb\" target=\"_parent\"><img src=\"https://colab.research.google.com/assets/colab-badge.svg\" alt=\"Open In Colab\"/></a>"
      ]
    },
    {
      "cell_type": "code",
      "execution_count": null,
      "metadata": {
        "id": "Q9YwpkI8RWGK"
      },
      "outputs": [],
      "source": [
        "import torch\n",
        "import torch.nn as nn\n",
        "import torchvision\n",
        "import torchvision.transforms as transforms\n",
        "import torchvision.datasets as datasets\n",
        "import matplotlib.pyplot as plt\n",
        "import numpy as np\n",
        "\n",
        "from torch import optim\n",
        "from torch.utils.data import DataLoader\n",
        "\n",
        "#Build the CNN\n",
        "class CNN(nn.Module):\n",
        "  def __init(self, in_channels=1, num_classes=10):\n",
        "    super(CNN, self).__init__()\n",
        "    self.conv1=nn.Conv2d(\n",
        "        padding(1,1),\n",
        "        kernel_size(3,3),\n",
        "        in_channels = in_channels,\n",
        "        out_channels = 8,\n",
        "        stride(1,1),\n",
        "    )\n",
        "    \n",
        "    self.conv2=nn.Conv2d(\n",
        "        padding(1,1),\n",
        "        kernel_size(3,3),\n",
        "        in_channels = 8,\n",
        "        out_channels = 16,\n",
        "        stride(1,1),\n",
        "    )\n",
        "\n",
        "    self.pool = nn.MaxPool2d(kernel_size=(2,2), stride=(2,2))\n",
        "    self.fc1 = nn.Linear(16*7*7, num_classes)\n",
        "\n",
        "    def forwards(self, x):\n",
        "      x=F.relu(self.conv1(x))\n",
        "      x=self.pool(x)\n",
        "      x=F.relu(self.conv2(x))\n",
        "      x=self.pool(x)\n",
        "      x=x.reshape(x.shape[0], -1)\n",
        "      x=self.fc1(x)\n",
        "      return x\n",
        "\n",
        "#Get device\n",
        "device = torch.device('cuda' if torch.cuda.is_available() else 'cpu')\n",
        "\n",
        "#Hyperparameters\n",
        "num_epochs = 4\n",
        "batch_size = 64\n",
        "in_channels = 1\n",
        "learning_rate = 0.001\n",
        "num_classes = 10\n",
        "\n",
        "#Get the data\n",
        "train_ds = datasets.MNIST(root=\"dataset/\", train=True, transform=transforms.ToTensor(), download=True)\n",
        "test_ds = datasets.MNIST(root=\"dataset/\", train=False, transform=transforms.ToTensor(), download=True)\n",
        "train_load = DataLoader(dataset=train_ds, batch_size=batch_size, shuffle=True)\n",
        "test_load = DataLoader(dataset=test_ds, batch_size=batch_size, shuffle=True)\n",
        "\n",
        "model = CNN(in_channels=in_channels, num_classes=num_classes).to(device)\n",
        "\n",
        "#Loss\n",
        "criterion = nn.CrossEntropyLoss()\n",
        "\n",
        "#Optimizer\n",
        "optimizer = optim.Adam(model.parameters(), lr=learning_rate)\n",
        "\n",
        "#Train\n",
        "for epoch in range(num_epochs):\n",
        "  for batch_idx, (data, targets) in enumerate(tqdm(train_loader)):\n",
        "    data=data.to(device=device)\n",
        "    targets = targets.to(device=device)\n",
        "    scores = model(data)\n",
        "    loss=criterion(scores, targets)\n",
        "    optimizer.zero_grad()\n",
        "    loss.backward()\n",
        "    optimizer.step()\n",
        "\n",
        "def check_accuracy(load, model):\n",
        "  correct=0\n",
        "  samples =0\n",
        "  model.eval()\n",
        "\n",
        "  \n"
      ]
    }
  ]
}